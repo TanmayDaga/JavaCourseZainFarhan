{
 "cells": [
  {
   "cell_type": "code",
   "execution_count": 1,
   "id": "incorrect-jefferson",
   "metadata": {
    "scrolled": true
   },
   "outputs": [
    {
     "name": "stdout",
     "output_type": "stream",
     "text": [
      "Requirement already satisfied: google-api-python-client in /Library/Frameworks/Python.framework/Versions/3.8/lib/python3.8/site-packages (2.31.0)\n",
      "Requirement already satisfied: google-auth-httplib2 in /Library/Frameworks/Python.framework/Versions/3.8/lib/python3.8/site-packages (0.1.0)\n",
      "Requirement already satisfied: google-auth-oauthlib in /Library/Frameworks/Python.framework/Versions/3.8/lib/python3.8/site-packages (0.4.6)\n",
      "Requirement already satisfied: google-api-core<3.0.0dev,>=1.21.0 in /Library/Frameworks/Python.framework/Versions/3.8/lib/python3.8/site-packages (from google-api-python-client) (1.26.1)\n",
      "Requirement already satisfied: google-auth<3.0.0dev,>=1.16.0 in /Library/Frameworks/Python.framework/Versions/3.8/lib/python3.8/site-packages (from google-api-python-client) (1.27.1)\n",
      "Requirement already satisfied: uritemplate<5,>=3.0.0 in /Library/Frameworks/Python.framework/Versions/3.8/lib/python3.8/site-packages (from google-api-python-client) (3.0.1)\n",
      "Requirement already satisfied: httplib2<1dev,>=0.15.0 in /Library/Frameworks/Python.framework/Versions/3.8/lib/python3.8/site-packages (from google-api-python-client) (0.19.0)\n",
      "Requirement already satisfied: six in /Library/Frameworks/Python.framework/Versions/3.8/lib/python3.8/site-packages (from google-auth-httplib2) (1.15.0)\n",
      "Requirement already satisfied: requests<3.0.0dev,>=2.18.0 in /Library/Frameworks/Python.framework/Versions/3.8/lib/python3.8/site-packages (from google-api-core<3.0.0dev,>=1.21.0->google-api-python-client) (2.23.0)\n",
      "Requirement already satisfied: setuptools>=40.3.0 in /Library/Frameworks/Python.framework/Versions/3.8/lib/python3.8/site-packages (from google-api-core<3.0.0dev,>=1.21.0->google-api-python-client) (49.2.1)\n",
      "Requirement already satisfied: googleapis-common-protos<2.0dev,>=1.6.0 in /Library/Frameworks/Python.framework/Versions/3.8/lib/python3.8/site-packages (from google-api-core<3.0.0dev,>=1.21.0->google-api-python-client) (1.53.0)\n",
      "Requirement already satisfied: protobuf>=3.12.0 in /Library/Frameworks/Python.framework/Versions/3.8/lib/python3.8/site-packages (from google-api-core<3.0.0dev,>=1.21.0->google-api-python-client) (3.15.5)\n",
      "Requirement already satisfied: packaging>=14.3 in /Library/Frameworks/Python.framework/Versions/3.8/lib/python3.8/site-packages (from google-api-core<3.0.0dev,>=1.21.0->google-api-python-client) (20.9)\n",
      "Requirement already satisfied: pytz in /Library/Frameworks/Python.framework/Versions/3.8/lib/python3.8/site-packages (from google-api-core<3.0.0dev,>=1.21.0->google-api-python-client) (2019.3)\n",
      "Requirement already satisfied: pyasn1-modules>=0.2.1 in /Library/Frameworks/Python.framework/Versions/3.8/lib/python3.8/site-packages (from google-auth<3.0.0dev,>=1.16.0->google-api-python-client) (0.2.8)\n",
      "Requirement already satisfied: cachetools<5.0,>=2.0.0 in /Library/Frameworks/Python.framework/Versions/3.8/lib/python3.8/site-packages (from google-auth<3.0.0dev,>=1.16.0->google-api-python-client) (4.2.1)\n",
      "Requirement already satisfied: rsa<5,>=3.1.4 in /Library/Frameworks/Python.framework/Versions/3.8/lib/python3.8/site-packages (from google-auth<3.0.0dev,>=1.16.0->google-api-python-client) (4.7.2)\n",
      "Requirement already satisfied: pyparsing<3,>=2.4.2 in /Library/Frameworks/Python.framework/Versions/3.8/lib/python3.8/site-packages (from httplib2<1dev,>=0.15.0->google-api-python-client) (2.4.7)\n",
      "Requirement already satisfied: pyasn1<0.5.0,>=0.4.6 in /Library/Frameworks/Python.framework/Versions/3.8/lib/python3.8/site-packages (from pyasn1-modules>=0.2.1->google-auth<3.0.0dev,>=1.16.0->google-api-python-client) (0.4.8)\n",
      "Requirement already satisfied: chardet<4,>=3.0.2 in /Library/Frameworks/Python.framework/Versions/3.8/lib/python3.8/site-packages (from requests<3.0.0dev,>=2.18.0->google-api-core<3.0.0dev,>=1.21.0->google-api-python-client) (3.0.4)\n",
      "Requirement already satisfied: urllib3!=1.25.0,!=1.25.1,<1.26,>=1.21.1 in /Library/Frameworks/Python.framework/Versions/3.8/lib/python3.8/site-packages (from requests<3.0.0dev,>=2.18.0->google-api-core<3.0.0dev,>=1.21.0->google-api-python-client) (1.25.8)\n",
      "Requirement already satisfied: idna<3,>=2.5 in /Library/Frameworks/Python.framework/Versions/3.8/lib/python3.8/site-packages (from requests<3.0.0dev,>=2.18.0->google-api-core<3.0.0dev,>=1.21.0->google-api-python-client) (2.9)\n",
      "Requirement already satisfied: certifi>=2017.4.17 in /Library/Frameworks/Python.framework/Versions/3.8/lib/python3.8/site-packages (from requests<3.0.0dev,>=2.18.0->google-api-core<3.0.0dev,>=1.21.0->google-api-python-client) (2019.11.28)\n",
      "Requirement already satisfied: requests-oauthlib>=0.7.0 in /Library/Frameworks/Python.framework/Versions/3.8/lib/python3.8/site-packages (from google-auth-oauthlib) (1.3.0)\n",
      "Requirement already satisfied: oauthlib>=3.0.0 in /Library/Frameworks/Python.framework/Versions/3.8/lib/python3.8/site-packages (from requests-oauthlib>=0.7.0->google-auth-oauthlib) (3.1.0)\n",
      "\u001b[33mWARNING: You are using pip version 21.0.1; however, version 21.3.1 is available.\n",
      "You should consider upgrading via the '/Library/Frameworks/Python.framework/Versions/3.8/bin/python3.8 -m pip install --upgrade pip' command.\u001b[0m\n"
     ]
    }
   ],
   "source": [
    "!pip install --upgrade google-api-python-client google-auth-httplib2 google-auth-oauthlib"
   ]
  },
  {
   "cell_type": "code",
   "execution_count": 2,
   "id": "administrative-window",
   "metadata": {},
   "outputs": [],
   "source": [
    "import pytesseract\n",
    "from PIL import Image"
   ]
  },
  {
   "cell_type": "code",
   "execution_count": 3,
   "id": "usual-lawyer",
   "metadata": {},
   "outputs": [],
   "source": [
    "img = Image.open('photo.jpeg')\n",
    "img = img.convert('L')"
   ]
  },
  {
   "cell_type": "code",
   "execution_count": 4,
   "id": "broad-advancement",
   "metadata": {},
   "outputs": [],
   "source": [
    "# Crop extra part\n",
    "def crop1(img):\n",
    "    left, top, right,bottom = 95,91,665,745\n",
    "    cropped = img.crop((left,top,right,bottom))\n",
    "    return cropped"
   ]
  },
  {
   "cell_type": "code",
   "execution_count": 5,
   "id": "improving-trinity",
   "metadata": {},
   "outputs": [],
   "source": [
    "# Split into seven days\n",
    "def crop2(img):\n",
    "    # starting from monday\n",
    "    daysList = [[0,0,570,96], # Monday\n",
    "                [0,97,570,189], #Tuesday\n",
    "                [0,190,570,282], # Wednesday\n",
    "                [0,283,570,375], # Thurshday\n",
    "                [0,376,570,468], #Friday\n",
    "                [0,469,570,561], #Saturday\n",
    "                [0,562,570,654], #Sunday\n",
    "               ]\n",
    "    \n",
    "    def helperFunc(l,index):\n",
    "        left, top, right,bottom = l[index][0],l[index][1],l[index][2],l[index][3]\n",
    "        cropped = img.crop((left,top,right,bottom))\n",
    "        return cropped\n",
    "    \n",
    "    finalList = []\n",
    "    for i in range(7):\n",
    "        finalList.append(helperFunc(daysList,i))\n",
    "    return finalList\n",
    "\n"
   ]
  },
  {
   "cell_type": "code",
   "execution_count": 6,
   "id": "numerical-burns",
   "metadata": {},
   "outputs": [],
   "source": [
    "# return final list for periods after cropping\n",
    "def getList(l):\n",
    "    \n",
    "    def helperFunc(img):\n",
    "        left1, top1, right1, bottom1 = 0,0,95,30 # for 1st period\n",
    "        left2, top2, right2, bottom2 = 0,30,95,60 # for 2nd period\n",
    "        left3, top3, right3, bottom3 = 0,60,95,90 # for 3rd period\n",
    "        return [img.crop((left1, top1, right1, bottom1)),\n",
    "               img.crop((left2, top2, right2, bottom2)),\n",
    "               img.crop((left3, top3, right3, bottom3))]\n",
    "    \n",
    "    finalList = []\n",
    "    for i in range(7):\n",
    "        if i == 2: # For wednesday\n",
    "            continue\n",
    "        periods = helperFunc(l[i])\n",
    "        p1 = pytesseract.image_to_string(periods[0],config=' --psm 11')\n",
    "        p2 = pytesseract.image_to_string(periods[1],config=' --psm 11')\n",
    "        p3 = pytesseract.image_to_string(periods[2],config=' --psm 11')\n",
    "        \n",
    "        finalList.append([[p1.lower()[0],periods[0]],\n",
    "                          [p2.lower()[0],periods[1]],\n",
    "                          [p3.lower()[0],periods[2]]])\n",
    "    return finalList"
   ]
  },
  {
   "cell_type": "code",
   "execution_count": 7,
   "id": "familiar-facility",
   "metadata": {},
   "outputs": [],
   "source": [
    "# Correcting not recognised using help of user    \n",
    "def correct(l):\n",
    "    \n",
    "    def helperFunc(img): # asks user for value\n",
    "            from threading import Thread\n",
    "            thr = Thread(target = display, args=(img,))\n",
    "            thr.start()\n",
    "            string = \"Press 1 for physics,2 for chemistry, 3 for maths\"\n",
    "            inp = int(input(string))\n",
    "            return inp\n",
    "    \n",
    "    # correcting values from users\n",
    "    for i in l:\n",
    "        for j in range(3):\n",
    "            if i[j][0]!= (\"p\" or \"c\" or \"m\"):\n",
    "                print(i[j][0])\n",
    "                value = helperFunc(i[j][1])\n",
    "                if (value == 1):i[j][0] = \"p\"\n",
    "                elif (value == 2):i[j][0] = \"c\"\n",
    "                elif (value == 3):i[j][0] = \"m\"\n",
    "                print(i[j][0])  \n",
    "                \n",
    "                \n",
    "    # removing pictures from list\n",
    "    for i in l:\n",
    "        for j in range(3):\n",
    "            i[j] = i[j][0]\n",
    "    return l\n",
    "            \n",
    "            \n",
    "\n"
   ]
  },
  {
   "cell_type": "code",
   "execution_count": 11,
   "id": "plastic-homeless",
   "metadata": {},
   "outputs": [
    {
     "name": "stdout",
     "output_type": "stream",
     "text": [
      "i\n"
     ]
    },
    {
     "data": {
      "image/png": "[encoded data removed]",
      "text/plain": [
       "<PIL.Image.Image image mode=L size=95x30 at 0x7F99316DD070>"
      ]
     },
     "metadata": {},
     "output_type": "display_data"
    },
    {
     "name": "stdout",
     "output_type": "stream",
     "text": [
      "Press 1 for physics,2 for chemistry, 3 for maths2\n",
      "c\n",
      "m\n"
     ]
    },
    {
     "data": {
      "image/png": "[encoded data removed]",
      "text/plain": [
       "<PIL.Image.Image image mode=L size=95x30 at 0x7F99200AC100>"
      ]
     },
     "metadata": {},
     "output_type": "display_data"
    },
    {
     "name": "stdout",
     "output_type": "stream",
     "text": [
      "Press 1 for physics,2 for chemistry, 3 for maths3\n",
      "m\n",
      "c\n"
     ]
    },
    {
     "data": {
      "image/png": "[encoded data removed]",
      "text/plain": [
       "<PIL.Image.Image image mode=L size=95x30 at 0x7F99200AC730>"
      ]
     },
     "metadata": {},
     "output_type": "display_data"
    },
    {
     "name": "stdout",
     "output_type": "stream",
     "text": [
      "Press 1 for physics,2 for chemistry, 3 for maths2\n",
      "c\n",
      "m\n"
     ]
    },
    {
     "data": {
      "image/png": "[encoded data removed]",
      "text/plain": [
       "<PIL.Image.Image image mode=L size=95x30 at 0x7F99200AC3D0>"
      ]
     },
     "metadata": {},
     "output_type": "display_data"
    },
    {
     "name": "stdout",
     "output_type": "stream",
     "text": [
      "Press 1 for physics,2 for chemistry, 3 for maths3\n",
      "m\n",
      "i\n"
     ]
    },
    {
     "data": {
      "image/png": "[encoded data removed]",
      "text/plain": [
       "<PIL.Image.Image image mode=L size=95x30 at 0x7F99200AC5B0>"
      ]
     },
     "metadata": {},
     "output_type": "display_data"
    },
    {
     "name": "stdout",
     "output_type": "stream",
     "text": [
      "Press 1 for physics,2 for chemistry, 3 for maths1\n",
      "p\n",
      "c\n"
     ]
    },
    {
     "data": {
      "image/png": "[encoded data removed]",
      "text/plain": [
       "<PIL.Image.Image image mode=L size=95x30 at 0x7F99200AC790>"
      ]
     },
     "metadata": {},
     "output_type": "display_data"
    },
    {
     "name": "stdout",
     "output_type": "stream",
     "text": [
      "Press 1 for physics,2 for chemistry, 3 for maths2\n",
      "c\n",
      "e\n"
     ]
    },
    {
     "data": {
      "image/png": "[encoded data removed]",
      "text/plain": [
       "<PIL.Image.Image image mode=L size=95x30 at 0x7F99200ACC10>"
      ]
     },
     "metadata": {},
     "output_type": "display_data"
    },
    {
     "name": "stdout",
     "output_type": "stream",
     "text": [
      "Press 1 for physics,2 for chemistry, 3 for maths1\n",
      "p\n",
      "m\n"
     ]
    },
    {
     "data": {
      "image/png": "[encoded data removed]",
      "text/plain": [
       "<PIL.Image.Image image mode=L size=95x30 at 0x7F99200ACAC0>"
      ]
     },
     "metadata": {},
     "output_type": "display_data"
    },
    {
     "name": "stdout",
     "output_type": "stream",
     "text": [
      "Press 1 for physics,2 for chemistry, 3 for maths3\n",
      "m\n",
      "m\n"
     ]
    },
    {
     "data": {
      "image/png": "[encoded data removed]",
      "text/plain": [
       "<PIL.Image.Image image mode=L size=95x30 at 0x7F99200AC8E0>"
      ]
     },
     "metadata": {},
     "output_type": "display_data"
    },
    {
     "name": "stdout",
     "output_type": "stream",
     "text": [
      "Press 1 for physics,2 for chemistry, 3 for maths3\n",
      "m\n",
      "c\n"
     ]
    },
    {
     "data": {
      "image/png": "[encoded data removed]",
      "text/plain": [
       "<PIL.Image.Image image mode=L size=95x30 at 0x7F99200ACD00>"
      ]
     },
     "metadata": {},
     "output_type": "display_data"
    },
    {
     "name": "stdout",
     "output_type": "stream",
     "text": [
      "Press 1 for physics,2 for chemistry, 3 for maths2\n",
      "c\n",
      "e\n"
     ]
    },
    {
     "data": {
      "image/png": "[encoded data removed]",
      "text/plain": [
       "<PIL.Image.Image image mode=L size=95x30 at 0x7F99200AC850>"
      ]
     },
     "metadata": {},
     "output_type": "display_data"
    },
    {
     "name": "stdout",
     "output_type": "stream",
     "text": [
      "Press 1 for physics,2 for chemistry, 3 for maths1\n",
      "p\n",
      "e\n"
     ]
    },
    {
     "data": {
      "image/png": "[encoded data removed]",
      "text/plain": [
       "<PIL.Image.Image image mode=L size=95x30 at 0x7F99200AC640>"
      ]
     },
     "metadata": {},
     "output_type": "display_data"
    },
    {
     "name": "stdout",
     "output_type": "stream",
     "text": [
      "Press 1 for physics,2 for chemistry, 3 for maths1\n",
      "p\n",
      "c\n"
     ]
    },
    {
     "data": {
      "image/png": "[encoded data removed]",
      "text/plain": [
       "<PIL.Image.Image image mode=L size=95x30 at 0x7F99200ACF10>"
      ]
     },
     "metadata": {},
     "output_type": "display_data"
    },
    {
     "name": "stdout",
     "output_type": "stream",
     "text": [
      "Press 1 for physics,2 for chemistry, 3 for maths2\n",
      "c\n",
      "m\n"
     ]
    },
    {
     "data": {
      "image/png": "[encoded data removed]",
      "text/plain": [
       "<PIL.Image.Image image mode=L size=95x30 at 0x7F99200ACA60>"
      ]
     },
     "metadata": {},
     "output_type": "display_data"
    },
    {
     "name": "stdout",
     "output_type": "stream",
     "text": [
      "Press 1 for physics,2 for chemistry, 3 for maths3\n",
      "m\n",
      "m\n"
     ]
    },
    {
     "data": {
      "image/png": "[encoded data removed]",
      "text/plain": [
       "<PIL.Image.Image image mode=L size=95x30 at 0x7F99200ACD60>"
      ]
     },
     "metadata": {},
     "output_type": "display_data"
    },
    {
     "name": "stdout",
     "output_type": "stream",
     "text": [
      "Press 1 for physics,2 for chemistry, 3 for maths3\n",
      "m\n",
      "i\n"
     ]
    },
    {
     "data": {
      "image/png": "[encoded data removed]",
      "text/plain": [
       "<PIL.Image.Image image mode=L size=95x30 at 0x7F99200ACA00>"
      ]
     },
     "metadata": {},
     "output_type": "display_data"
    },
    {
     "name": "stdout",
     "output_type": "stream",
     "text": [
      "Press 1 for physics,2 for chemistry, 3 for maths1\n",
      "p\n",
      "|\n"
     ]
    },
    {
     "data": {
      "image/png": "[encoded data removed]",
      "text/plain": [
       "<PIL.Image.Image image mode=L size=95x30 at 0x7F99200AC5E0>"
      ]
     },
     "metadata": {},
     "output_type": "display_data"
    },
    {
     "name": "stdout",
     "output_type": "stream",
     "text": [
      "Press 1 for physics,2 for chemistry, 3 for maths1\n",
      "p\n",
      "[['c', 'm', 'p'], ['c', 'm', 'p'], ['c', 'p', 'm'], ['m', 'c', 'p'], ['p', 'c', 'm'], ['m', 'p', 'p']]\n"
     ]
    }
   ],
   "source": [
    "\n",
    "l = crop2(crop1(img))\n",
    "# display(l[0],l[1] , l[2],l[3],l[4],l[5],l[6])    \n",
    "listL = correct(getList(l))"
   ]
  },
  {
   "cell_type": "code",
   "execution_count": 15,
   "id": "integrated-adjustment",
   "metadata": {},
   "outputs": [],
   "source": [
    " listL = [['c', 'm', 'p'], ['c', 'm', 'p'], ['c', 'p', 'm'], ['m', 'c', 'p'], ['p', 'c', 'm'], ['m', 'p', 'p']]"
   ]
  },
  {
   "cell_type": "markdown",
   "id": "active-terrace",
   "metadata": {},
   "source": [
    "## Operations on list "
   ]
  },
  {
   "cell_type": "code",
   "execution_count": 16,
   "id": "banner-responsibility",
   "metadata": {},
   "outputs": [],
   "source": [
    "from datetime import timedelta\n",
    "import datetime\n",
    "# assuming pic uploaded on sunday"
   ]
  },
  {
   "cell_type": "code",
   "execution_count": 17,
   "id": "preliminary-rental",
   "metadata": {},
   "outputs": [
    {
     "name": "stdout",
     "output_type": "stream",
     "text": [
      "[{'summary': 'Chemistry Class', 'start': {'dateTime': '2021-11-22T16:00:00', 'timeZone': 'Asia/Kolkata'}, 'end': {'dateTime': '2021-11-22T17:15:00', 'timeZone': 'Asia/Kolkata'}}, {'summary': 'Maths Class', 'start': {'dateTime': '2021-11-22T17:30:00', 'timeZone': 'Asia/Kolkata'}, 'end': {'dateTime': '2021-11-22T18:45:00', 'timeZone': 'Asia/Kolkata'}}, {'summary': 'Physics Class', 'start': {'dateTime': '2021-11-22T19:00:00', 'timeZone': 'Asia/Kolkata'}, 'end': {'dateTime': '2021-11-22T20:15:00', 'timeZone': 'Asia/Kolkata'}}, {'summary': 'Chemistry Class', 'start': {'dateTime': '2021-11-23T16:00:00', 'timeZone': 'Asia/Kolkata'}, 'end': {'dateTime': '2021-11-23T17:15:00', 'timeZone': 'Asia/Kolkata'}}, {'summary': 'Maths Class', 'start': {'dateTime': '2021-11-23T17:30:00', 'timeZone': 'Asia/Kolkata'}, 'end': {'dateTime': '2021-11-23T18:45:00', 'timeZone': 'Asia/Kolkata'}}, {'summary': 'Physics Class', 'start': {'dateTime': '2021-11-23T19:00:00', 'timeZone': 'Asia/Kolkata'}, 'end': {'dateTime': '2021-11-23T20:15:00', 'timeZone': 'Asia/Kolkata'}}, {'summary': 'Chemistry Class', 'start': {'dateTime': '2021-11-25T16:00:00', 'timeZone': 'Asia/Kolkata'}, 'end': {'dateTime': '2021-11-25T17:15:00', 'timeZone': 'Asia/Kolkata'}}, {'summary': 'Physics Class', 'start': {'dateTime': '2021-11-25T17:30:00', 'timeZone': 'Asia/Kolkata'}, 'end': {'dateTime': '2021-11-25T18:45:00', 'timeZone': 'Asia/Kolkata'}}, {'summary': 'Maths Class', 'start': {'dateTime': '2021-11-25T19:00:00', 'timeZone': 'Asia/Kolkata'}, 'end': {'dateTime': '2021-11-25T20:15:00', 'timeZone': 'Asia/Kolkata'}}, {'summary': 'Maths Class', 'start': {'dateTime': '2021-11-26T16:00:00', 'timeZone': 'Asia/Kolkata'}, 'end': {'dateTime': '2021-11-26T17:15:00', 'timeZone': 'Asia/Kolkata'}}, {'summary': 'Chemistry Class', 'start': {'dateTime': '2021-11-26T17:30:00', 'timeZone': 'Asia/Kolkata'}, 'end': {'dateTime': '2021-11-26T18:45:00', 'timeZone': 'Asia/Kolkata'}}, {'summary': 'Physics Class', 'start': {'dateTime': '2021-11-26T19:00:00', 'timeZone': 'Asia/Kolkata'}, 'end': {'dateTime': '2021-11-26T20:15:00', 'timeZone': 'Asia/Kolkata'}}, {'summary': 'Physics Class', 'start': {'dateTime': '2021-11-27T16:00:00', 'timeZone': 'Asia/Kolkata'}, 'end': {'dateTime': '2021-11-27T17:15:00', 'timeZone': 'Asia/Kolkata'}}, {'summary': 'Chemistry Class', 'start': {'dateTime': '2021-11-27T17:30:00', 'timeZone': 'Asia/Kolkata'}, 'end': {'dateTime': '2021-11-27T18:45:00', 'timeZone': 'Asia/Kolkata'}}, {'summary': 'Maths Class', 'start': {'dateTime': '2021-11-27T19:00:00', 'timeZone': 'Asia/Kolkata'}, 'end': {'dateTime': '2021-11-27T20:15:00', 'timeZone': 'Asia/Kolkata'}}, {'summary': 'Maths Class', 'start': {'dateTime': '2021-11-28T16:00:00', 'timeZone': 'Asia/Kolkata'}, 'end': {'dateTime': '2021-11-28T17:15:00', 'timeZone': 'Asia/Kolkata'}}, {'summary': 'Physics Class', 'start': {'dateTime': '2021-11-28T17:30:00', 'timeZone': 'Asia/Kolkata'}, 'end': {'dateTime': '2021-11-28T18:45:00', 'timeZone': 'Asia/Kolkata'}}, {'summary': 'Physics Class', 'start': {'dateTime': '2021-11-28T19:00:00', 'timeZone': 'Asia/Kolkata'}, 'end': {'dateTime': '2021-11-28T20:15:00', 'timeZone': 'Asia/Kolkata'}}]\n"
     ]
    }
   ],
   "source": [
    "# Helper Functions\n",
    "def createDates(dayNo):\n",
    "    reqDate = datetime.datetime.now() + timedelta(days=dayNo)\n",
    "    return [reqDate.year,reqDate.month,reqDate.day]\n",
    "\n",
    "def createTimeDate(dayNo,eventNo):\n",
    "    timeDict = {0:[[16,0,0],[17,15,0]],1:[[17,30,0],[18,45,0]],2:[[19,0,0],[20,15,0]]}\n",
    "    reqFormatList  = createDates(dayNo)\n",
    "    reqFormatList.append(timeDict[eventNo])\n",
    "    TimeZone = datetime.datetime.now(datetime.timezone.utc).astimezone().tzinfo\n",
    "    startTime = datetime.datetime(reqFormatList[0],reqFormatList[1],reqFormatList[2],reqFormatList[3][0][0],reqFormatList[3][0][1],reqFormatList[3][0][2],tzinfo=TimeZone)\n",
    "    endTime = datetime.datetime(reqFormatList[0],reqFormatList[1],reqFormatList[2],reqFormatList[3][1][0],reqFormatList[3][1][1],reqFormatList[3][1][2],tzinfo=TimeZone)\n",
    "    \n",
    "    return startTime.strftime(\"%Y-%m-%dT%H:%M:%S\") , endTime.strftime(\"%Y-%m-%dT%H:%M:%S\")\n",
    "\n",
    "# main Func\n",
    "def create_event(dayNo,eventNo,event):\n",
    "    eventDicti = {\"p\":\"Physics Class\",\"c\":\"Chemistry Class\",\"m\":\"Maths Class\"}\n",
    "    startTime , endTime = createTimeDate(dayNo,eventNo)\n",
    "    return {\"summary\":eventDicti[event],\"start\":{\"dateTime\":startTime,\"timeZone\":\"Asia/Kolkata\"},\"end\":{\"dateTime\":endTime,\"timeZone\":\"Asia/Kolkata\"}}\n",
    "  \n",
    "   \n",
    "    \n",
    "    \n",
    "\n",
    "def create_eventStrings(l):\n",
    "    listi = []\n",
    "    vari = 0\n",
    "    for i in range(1,8):# DayNO --> 1-monday,2-tuesday and so on\n",
    "        if i == 3:# Wednesday\n",
    "            continue\n",
    "        for j in range(3):\n",
    "           listi.append(create_event(i,j,l[vari][j]) )\n",
    "        vari+=1\n",
    "    return listi\n",
    "\n",
    "print(create_eventStrings(listL))\n",
    "\n"
   ]
  },
  {
   "cell_type": "code",
   "execution_count": null,
   "id": "attended-witch",
   "metadata": {},
   "outputs": [],
   "source": []
  },
  {
   "cell_type": "code",
   "execution_count": 18,
   "id": "subtle-display",
   "metadata": {},
   "outputs": [
    {
     "name": "stdout",
     "output_type": "stream",
     "text": [
      "Event created: https://www.google.com/calendar/event?eid=ZGVjbGVlaDh2NGttNHZscGlnN2w2bDE5M2sgdGFubWF5MDZkYWdhQG0\n",
      "Event created: https://www.google.com/calendar/event?eid=Yzl2N2hjZXNob2tqZWhzcGcyMmswbm5yaWsgdGFubWF5MDZkYWdhQG0\n",
      "Event created: https://www.google.com/calendar/event?eid=bmk2Y3E0azhyaDMwYWZnOTVqY3Q5YWJlbHMgdGFubWF5MDZkYWdhQG0\n",
      "Event created: https://www.google.com/calendar/event?eid=Y244NDlpYzI0dWhiYjljdGU5ZGxuMnI4MjAgdGFubWF5MDZkYWdhQG0\n",
      "Event created: https://www.google.com/calendar/event?eid=MjRhaGF1MzZjazJnOWkxOHVoYXNhajk0ZW8gdGFubWF5MDZkYWdhQG0\n",
      "Event created: https://www.google.com/calendar/event?eid=ajhkc2hvZzk5Z2lqNnYwYTZ2b3JmY2RsYzAgdGFubWF5MDZkYWdhQG0\n",
      "Event created: https://www.google.com/calendar/event?eid=MXA0Z3R2ZGZuaXB2MGZzbW5iOGliNnA4YXMgdGFubWF5MDZkYWdhQG0\n",
      "Event created: https://www.google.com/calendar/event?eid=NmY4cWRzc3MzNWZ0anJjcXQ0Y21sbGRqODQgdGFubWF5MDZkYWdhQG0\n",
      "Event created: https://www.google.com/calendar/event?eid=MGp2ZDBydmU0amlzOHI4ZmY0bmhxb2U4NjggdGFubWF5MDZkYWdhQG0\n",
      "Event created: https://www.google.com/calendar/event?eid=YWRhMXVjNDV0NDFyNXFuZTQ2cGlwNTRpNXMgdGFubWF5MDZkYWdhQG0\n",
      "Event created: https://www.google.com/calendar/event?eid=MTFvcTZwMHF0cGlybzZob2Rwb2dmOGw2dTggdGFubWF5MDZkYWdhQG0\n",
      "Event created: https://www.google.com/calendar/event?eid=ZWE1dDNtN244Z28xZm9kZDUwOGxsNWpnMjggdGFubWF5MDZkYWdhQG0\n",
      "Event created: https://www.google.com/calendar/event?eid=ZjNqbm43aWxvbTRyYTFsMHA1MHIwMjI4ajQgdGFubWF5MDZkYWdhQG0\n",
      "Event created: https://www.google.com/calendar/event?eid=MHAyODByZ2JtcHVuNnFwNWsxYmY3dHRjZjAgdGFubWF5MDZkYWdhQG0\n",
      "Event created: https://www.google.com/calendar/event?eid=ZGp0bmRrbWVrbHFqaXZjajZ0ZzdqYnZnanMgdGFubWF5MDZkYWdhQG0\n",
      "Event created: https://www.google.com/calendar/event?eid=YmFsdHBraDlkYXU3MGpicGU5djJ0NnZwOTggdGFubWF5MDZkYWdhQG0\n",
      "Event created: https://www.google.com/calendar/event?eid=NmRwOW84bXYzcHI2ZzAzc2w4amMxY2c0c28gdGFubWF5MDZkYWdhQG0\n",
      "Event created: https://www.google.com/calendar/event?eid=ajViNjJvY24wdDZza3JjZGdwMG0yb2VqNzQgdGFubWF5MDZkYWdhQG0\n"
     ]
    }
   ],
   "source": [
    "from __future__ import print_function\n",
    "def buildService():\n",
    "    \n",
    "    import datetime\n",
    "    import os.path\n",
    "    from googleapiclient.discovery import build\n",
    "    from google_auth_oauthlib.flow import InstalledAppFlow\n",
    "    from google.auth.transport.requests import Request\n",
    "    from google.oauth2.credentials import Credentials\n",
    "    SCOPES = ['https://www.googleapis.com/auth/calendar']\n",
    "\n",
    "    \"\"\"Shows basic usage of the Google Calendar API.\n",
    "    Prints the start and name of the next 10 events on the user's calendar.\n",
    "    \"\"\"\n",
    "    creds = None\n",
    "    # The file token.json stores the user's access and refresh tokens, and is\n",
    "    # created automatically when the authorization flow completes for the first\n",
    "    # time.\n",
    "    if os.path.exists('token.json'):\n",
    "        creds = Credentials.from_authorized_user_file('token.json', SCOPES)\n",
    "    # If there are no (valid) credentials available, let the user log in.\n",
    "    if not creds or not creds.valid:\n",
    "        if creds and creds.expired and creds.refresh_token:\n",
    "            creds.refresh(Request())\n",
    "        else:\n",
    "            flow = InstalledAppFlow.from_client_secrets_file(\n",
    "                'credentials.json', SCOPES)\n",
    "            creds = flow.run_local_server(port=0)\n",
    "        # Save the credentials for the next run\n",
    "        with open('token.json', 'w') as token:\n",
    "            token.write(creds.to_json())\n",
    "\n",
    "    return build('calendar', 'v3', credentials=creds)\n",
    "\n",
    "   \n",
    "service = buildService()\n",
    "eventStrings = create_eventStrings(listL)\n",
    "for i in (eventStrings):\n",
    "    event = service.events().insert(calendarId='primary', body=i).execute()\n",
    "    print ('Event created: %s' % (event.get('htmlLink')))\n",
    "\n",
    "    \n",
    "    \n",
    "\n",
    "\n",
    "\n"
   ]
  },
  {
   "cell_type": "code",
   "execution_count": null,
   "id": "baking-transcription",
   "metadata": {},
   "outputs": [],
   "source": []
  },
  {
   "cell_type": "code",
   "execution_count": null,
   "id": "generous-mouth",
   "metadata": {},
   "outputs": [],
   "source": []
  }
 ],
 "metadata": {
  "kernelspec": {
   "display_name": "Python 3",
   "language": "python",
   "name": "python3"
  },
  "language_info": {
   "codemirror_mode": {
    "name": "ipython",
    "version": 3
   },
   "file_extension": ".py",
   "mimetype": "text/x-python",
   "name": "python",
   "nbconvert_exporter": "python",
   "pygments_lexer": "ipython3",
   "version": "3.8.8"
  }
 },
 "nbformat": 4,
 "nbformat_minor": 5
}
